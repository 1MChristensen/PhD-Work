{
 "cells": [
  {
   "cell_type": "markdown",
   "metadata": {},
   "source": [
    "# Trotter + Finite difference approach to the KvN problem\n",
    "\n",
    "Here we will try to solve the nonlinear ODE \n",
    "\n",
    "$\\frac{\\partial x}{\\partial t} = -x^2,$ with $x(0)=1$\n",
    "\n",
    "using finite differences and Trotter formula"
   ]
  },
  {
   "cell_type": "code",
   "execution_count": 26,
   "metadata": {},
   "outputs": [],
   "source": [
    "import KvN_tools as kvn\n",
    "import numpy as np\n",
    "import matplotlib.pyplot as plt\n",
    "import scipy"
   ]
  },
  {
   "cell_type": "code",
   "execution_count": 48,
   "metadata": {},
   "outputs": [
    {
     "name": "stdout",
     "output_type": "stream",
     "text": [
      "Initializing the state\n"
     ]
    }
   ],
   "source": [
    "# Set up the grid\n",
    "n_qubits = 10\n",
    "n_grid = 2**n_qubits\n",
    "grid_extent = (0,2)\n",
    "x = np.linspace(*grid_extent, n_grid)\n",
    "\n",
    "# Set up time\n",
    "n_steps = 1500\n",
    "delta = 0.001\n",
    "t = np.linspace(0, n_steps*delta, n_steps)"
   ]
  },
  {
   "cell_type": "code",
   "execution_count": 99,
   "metadata": {},
   "outputs": [
    {
     "name": "stdout",
     "output_type": "stream",
     "text": [
      "[0.-3.j 0.+3.j 0.-1.j 0.+0.j]\n"
     ]
    }
   ],
   "source": [
    "# Define finite (forwards) difference momentum operator\n",
    "def P(x): \n",
    "  dx = x[1] - x[0]\n",
    "  matrix = - np.diag(np.ones(len(x), dtype=complex)) + np.diag(np.ones(len(x)-1), k=1)\n",
    "  return -1.0j*matrix/dx\n",
    "\n",
    "# Define the X operator\n",
    "def X(x):\n",
    "  X = np.diag(x)\n",
    "  return X@X\n",
    "\n",
    "# Assemble Trotter formula \n",
    "def Trotter(x, n, t):\n",
    "  # Calculate H1\n",
    "  H1 = 0.5*P(x)@X(x)\n",
    "  H2 = 0.5*X(x)@P(x)\n",
    "\n",
    "  # Calculate the time evolution operator\n",
    "  exp1 = scipy.linalg.expm(-1.0j*H1*t/n)\n",
    "  exp2 = scipy.linalg.expm(-1.0j*H2*t/n)\n",
    "\n",
    "  U = (exp1@exp2)**n\n",
    "\n",
    "  U_approx = (np.eye(len(x)) + (-1.0j*H1*t + -1.0j*H2*t)/n)**n\n",
    "\n",
    "  return U, U_approx"
   ]
  },
  {
   "cell_type": "code",
   "execution_count": 96,
   "metadata": {},
   "outputs": [
    {
     "name": "stdout",
     "output_type": "stream",
     "text": [
      "Diff 0.15812394685120612\n",
      "Max (7.7368915623156935+0j)\n",
      "Initializing the state\n",
      "NaN encountered at step 1393\n"
     ]
    }
   ],
   "source": [
    "# Calculate the time evolution operator\n",
    "U, U_approx = Trotter(x, 100, delta)\n",
    "\n",
    "# Set up the initial state (delta in this case)\n",
    "psi = kvn.psi0(x, 1)\n",
    "\n",
    "psi_store = np.zeros((n_grid, n_steps), dtype=complex)\n",
    "\n",
    "# Evolve the state\n",
    "for i in range(n_steps):\n",
    "  psi = U_approx@psi\n",
    "  \n",
    "  if np.isnan(psi).any():\n",
    "    print(\"NaN encountered at step\", i)\n",
    "    break\n",
    "\n",
    "  psi_store[:,i] = psi\n",
    "\n",
    "psi_store = psi_store[:, :i]\n",
    "t = t[:i]\n",
    "\n",
    "if np.isnan(psi_store).any():\n",
    "  print('Residual NaN in psi')\n"
   ]
  },
  {
   "cell_type": "code",
   "execution_count": 92,
   "metadata": {},
   "outputs": [
    {
     "name": "stderr",
     "output_type": "stream",
     "text": [
      "/home/matt/PhD/Sketch work/PhD-Work/KvN/KvN_tools.py:92: RuntimeWarning: overflow encountered in square\n",
      "  rho_store = np.abs(psi_store)**2\n"
     ]
    },
    {
     "data": {
      "image/png": "[encoded data removed]",
      "text/plain": [
       "<Figure size 432x288 with 2 Axes>"
      ]
     },
     "metadata": {
      "needs_background": "light"
     },
     "output_type": "display_data"
    }
   ],
   "source": [
    "# Plot the results\n",
    "\n",
    "kvn.plot_evolution(x, psi_store, t)\n"
   ]
  },
  {
   "cell_type": "code",
   "execution_count": null,
   "metadata": {},
   "outputs": [],
   "source": []
  }
 ],
 "metadata": {
  "kernelspec": {
   "display_name": "Python 3",
   "language": "python",
   "name": "python3"
  },
  "language_info": {
   "codemirror_mode": {
    "name": "ipython",
    "version": 3
   },
   "file_extension": ".py",
   "mimetype": "text/x-python",
   "name": "python",
   "nbconvert_exporter": "python",
   "pygments_lexer": "ipython3",
   "version": "3.10.12"
  }
 },
 "nbformat": 4,
 "nbformat_minor": 2
}
