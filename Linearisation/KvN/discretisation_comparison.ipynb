{
 "cells": [
  {
   "cell_type": "markdown",
   "metadata": {},
   "source": [
    "# Discretization Comparison\n",
    "Here I will compare the FFT based derivative vs the finite difference for the momentum operator"
   ]
  },
  {
   "cell_type": "code",
   "execution_count": 18,
   "metadata": {},
   "outputs": [
    {
     "name": "stdout",
     "output_type": "stream",
     "text": [
      "Initializing the state\n"
     ]
    }
   ],
   "source": [
    "import numpy as np\n",
    "import KvN_tools as kvn\n",
    "\n",
    "def finite_diff(x):\n",
    "  dx = x[1] - x[0]\n",
    "  matrix = - np.diag(np.ones(len(x), dtype=complex)) + np.diag(np.ones(len(x)-1), k=1)\n",
    "  return -1j*matrix/dx\n",
    "\n",
    "def fft_diff(x, psi):\n",
    "  dx= x[1] - x[0]\n",
    "  k = 2 * np.pi * np.fft.fftfreq(len(psi), d=dx)\n",
    "\n",
    "  psi_k = np.fft.fft(psi)  # Transform to momentum space\n",
    "  p_psi_k = 1j * k * psi_k  # Apply the momentum operator in k-space\n",
    "  p_psi = np.fft.ifft(p_psi_k)  # Transform back to position space\n",
    "  return -1j*np.real(p_psi)\n",
    "\n",
    "\n",
    "# Set up the grid\n",
    "n_qubits = 10\n",
    "n_grid = 2**n_qubits\n",
    "grid_extent = (0,2)\n",
    "x = np.linspace(*grid_extent, n_grid)\n",
    "\n",
    "# Set up the initial state\n",
    "psi = kvn.psi0(x, 1)"
   ]
  },
  {
   "cell_type": "code",
   "execution_count": 24,
   "metadata": {},
   "outputs": [
    {
     "name": "stdout",
     "output_type": "stream",
     "text": [
      "511.5\n",
      "[0.-511.5j 0.+511.5j]\n",
      "[0.-5.11498395e+02j 0.+5.10539182e-15j]\n"
     ]
    }
   ],
   "source": [
    "finite_diff_psi = finite_diff(x)@psi\n",
    "\n",
    "fft_diff_psi = fft_diff(x, psi)\n",
    "\n",
    "print(abs(finite_diff_psi - fft_diff_psi).max())\n",
    "print(finite_diff_psi[np.where(abs(finite_diff_psi) > 1e-10)])\n",
    "print(fft_diff_psi[np.where(abs(finite_diff_psi) > 1e-10)])"
   ]
  },
  {
   "cell_type": "code",
   "execution_count": null,
   "metadata": {},
   "outputs": [],
   "source": []
  }
 ],
 "metadata": {
  "kernelspec": {
   "display_name": "Python 3",
   "language": "python",
   "name": "python3"
  },
  "language_info": {
   "codemirror_mode": {
    "name": "ipython",
    "version": 3
   },
   "file_extension": ".py",
   "mimetype": "text/x-python",
   "name": "python",
   "nbconvert_exporter": "python",
   "pygments_lexer": "ipython3",
   "version": "3.10.12"
  }
 },
 "nbformat": 4,
 "nbformat_minor": 2
}
