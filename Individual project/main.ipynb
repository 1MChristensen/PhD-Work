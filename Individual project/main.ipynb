{
 "cells": [
  {
   "cell_type": "markdown",
   "metadata": {},
   "source": [
    "## Vlasov-Maxwell Landau Damping demonstration"
   ]
  },
  {
   "cell_type": "code",
   "execution_count": 1,
   "metadata": {},
   "outputs": [],
   "source": [
    "import numpy as np\n",
    "\n",
    "# Define the number of Hermite modes\n",
    "Nn = Nm = Np = 10\n",
    "\n",
    "n_idx = []\n",
    "\n",
    "for n in range(Nn):\n",
    "  for m in range(Nm):\n",
    "    for p in range(Np):\n",
    "      n_idx.append((n, m, p))\n",
    "\n",
    "n_data = [(Nn, Nm, Np), n_idx]\n",
    "\n",
    "def get_idx(s, n, m, p, N):\n",
    "  if n < 0 or m < 0 or p < 0:\n",
    "    return -1\n",
    "  Nn, Nm, Np = N\n",
    "  return s*Nn*Nm*Np + n*Nm*Np + m*Np + p\n",
    "\n",
    "dim = 2*Nn*Nm*Np + 3\n",
    "A = np.zeros((dim, dim), dtype = 'complex_')\n",
    "\n",
    "k = (1,1,1)\n",
    "\n",
    "qs = (-1,1)"
   ]
  },
  {
   "cell_type": "markdown",
   "metadata": {},
   "source": [
    "### Create $L_1$ operator"
   ]
  },
  {
   "cell_type": "code",
   "execution_count": 2,
   "metadata": {},
   "outputs": [],
   "source": [
    "def L1(A, n_data, k):\n",
    "  Nn, Nm, Np = n_data[0]\n",
    "\n",
    "  sub_dim = Nn*Nm*Np\n",
    "\n",
    "  kx, ky, kz = k\n",
    "\n",
    "  for s in range(2):\n",
    "    for n in range(Nn):\n",
    "      for m in range(Nm):\n",
    "        for p in range(Np):\n",
    "          i = get_idx(s,n,m,p,n_data[0])  \n",
    "          j = get_idx(s,n-1,m,p,n_data[0])\n",
    "          if 0<=i<=sub_dim and 0<=j<=sub_dim:\n",
    "            A[i,j] += -1j*kx*(np.sqrt(n/2))\n",
    "\n",
    "          i = get_idx(s,n,m,p,n_data[0])  \n",
    "          j = get_idx(s,n+1,m,p,n_data[0])\n",
    "          if 0<=i<=sub_dim and 0<=j<=sub_dim:\n",
    "            A[i,j] += -1j*kx*(np.sqrt((n+1)/2))\n",
    "\n",
    "          i = get_idx(s,n,m,p,n_data[0])  \n",
    "          j = get_idx(s,n,m-1,p,n_data[0])\n",
    "          if 0<=i<=sub_dim and 0<=j<=sub_dim:\n",
    "            A[i,j] += -1j*ky*(np.sqrt(m/2))\n",
    "\n",
    "          i = get_idx(s,n,m,p,n_data[0])  \n",
    "          j = get_idx(s,n,m+1,p,n_data[0])\n",
    "          if 0<=i<=sub_dim and 0<=j<=sub_dim:\n",
    "            A[i,j] += -1j*ky*(np.sqrt((m+1)/2))\n",
    "\n",
    "          i = get_idx(s,n,m,p,n_data[0])  \n",
    "          j = get_idx(s,n,m,p-1,n_data[0])\n",
    "          if 0<=i<=sub_dim and 0<=j<=sub_dim:\n",
    "            A[i,j] += -1j*kz*(np.sqrt(p/2))\n",
    "  \n",
    "          i = get_idx(s,n,m,p,n_data[0])  \n",
    "          j = get_idx(s,n,m,p+1,n_data[0])\n",
    "          if 0<=i<=sub_dim and 0<=j<=sub_dim:\n",
    "            A[i,j] += -1j*kz*(np.sqrt((p+1)/2))\n",
    "\n",
    "  return A"
   ]
  },
  {
   "cell_type": "markdown",
   "metadata": {},
   "source": [
    "### Create $L_2$ operator"
   ]
  },
  {
   "cell_type": "code",
   "execution_count": 3,
   "metadata": {},
   "outputs": [],
   "source": [
    "def L2(A, n_data, k, qs):\n",
    "  Nn, Nm, Np = n_data[0]\n",
    "\n",
    "  kx, ky, kz = k\n",
    "\n",
    "  qe, qi = qs\n",
    "\n",
    "  dim_start = 2*Nn*Nm*Np\n",
    "\n",
    "  args_for_e = ((1, 0, 0, (3, 3, 3)),  # Arguments when e=0\n",
    "                (0, 1, 0, (3, 3, 3)),  # Arguments when e=1\n",
    "                (0, 0, 1, (3, 3, 3)))  # Arguments when e=2\n",
    "\n",
    "  for e in range(3):\n",
    "    i = dim_start + e\n",
    "    j = get_idx(0, *args_for_e[e])\n",
    "    A[i,j] += -qe/np.sqrt(2)\n",
    "    \n",
    "    j = get_idx(1, *args_for_e[e])\n",
    "    A[i,j] += -qi/np.sqrt(2)\n",
    "\n",
    "  return A\n"
   ]
  },
  {
   "cell_type": "markdown",
   "metadata": {},
   "source": [
    "### Create $L_3$ operator"
   ]
  },
  {
   "cell_type": "code",
   "execution_count": 4,
   "metadata": {},
   "outputs": [],
   "source": [
    "def L3(A, n_data, k):\n",
    "  Nn, Nm, Np = n_data[0]\n",
    "\n",
    "  kx, ky, kz = k\n",
    "\n",
    "  dim_start = 2*Nn*Nm*Np\n",
    "\n",
    "  # For the electrostatic assumption, L3 is zero\n",
    "\n",
    "  # Electric field differential terms\n",
    "  #for e in range(3):\n",
    "  #  i = dim_start + e\n",
    "  #  j = dim_start + (e-1)%3 + 3\n",
    "  #\n",
    "  #  A[i,j] += 1j*k[(e+1)%3]\n",
    "  #\n",
    "  #  j = dim_start + (e+1)%3 + 3\n",
    "  #  \n",
    "  #  A[i,j] += -1j*k[(e-1)%3]\n",
    "\n",
    "  # Magnetic field differential terms (no magnetic field terms due\n",
    "  # to electrostatic assumption)\n",
    "  #for b in range(3):\n",
    "  #  i = dim_start + 3 + b\n",
    "  #  j = dim_start + (b+1)%3\n",
    "  #\n",
    "  #  A[i,j] += 1j*k[(b-1)%3]\n",
    "  #\n",
    "  #  j = dim_start + (b-1)%3\n",
    "  #\n",
    "  #  A[i,j] += -1j*k[(b+1)%3]\n",
    "\n",
    "  return A \n"
   ]
  },
  {
   "cell_type": "markdown",
   "metadata": {},
   "source": [
    "### Create $\\mathcal{N}$ operator"
   ]
  },
  {
   "cell_type": "code",
   "execution_count": 5,
   "metadata": {},
   "outputs": [],
   "source": [
    "def N(A, n_data,k):\n",
    "  Nn, Nm, Np = n_data[0]\n",
    "\n",
    "  kx, ky, kz = k\n",
    "\n",
    "  dim_start = 2*Nn*Nm*Np\n",
    "\n",
    "  for s in range(2):\n",
    "    for n in range(Nn):\n",
    "      for m in range(Nm):\n",
    "        for p in range(Np):\n",
    "          i = get_idx(s,n,m,p,n_data[0])\n",
    "          A[i,dim_start:dim_start+3] += 1\n",
    "\n",
    "  return A"
   ]
  },
  {
   "cell_type": "markdown",
   "metadata": {},
   "source": [
    "### Construct matrix"
   ]
  },
  {
   "cell_type": "code",
   "execution_count": 6,
   "metadata": {},
   "outputs": [
    {
     "data": {
      "text/plain": [
       "array([[0.        +0.j        , 0.        -0.70710678j,\n",
       "        0.        +0.j        , ..., 1.        +0.j        ,\n",
       "        1.        +0.j        , 1.        +0.j        ],\n",
       "       [0.        -0.70710678j, 0.        +0.j        ,\n",
       "        0.        -1.j        , ..., 1.        +0.j        ,\n",
       "        1.        +0.j        , 1.        +0.j        ],\n",
       "       [0.        +0.j        , 0.        -1.j        ,\n",
       "        0.        +0.j        , ..., 1.        +0.j        ,\n",
       "        1.        +0.j        , 1.        +0.j        ],\n",
       "       ...,\n",
       "       [0.        +0.j        , 0.        +0.j        ,\n",
       "        0.        +0.j        , ..., 0.        +0.j        ,\n",
       "        0.        +0.j        , 0.        +0.j        ],\n",
       "       [0.        +0.j        , 0.        +0.j        ,\n",
       "        0.        +0.j        , ..., 0.        +0.j        ,\n",
       "        0.        +0.j        , 0.        +0.j        ],\n",
       "       [0.        +0.j        , 0.70710678+0.j        ,\n",
       "        0.        +0.j        , ..., 0.        +0.j        ,\n",
       "        0.        +0.j        , 0.        +0.j        ]])"
      ]
     },
     "execution_count": 6,
     "metadata": {},
     "output_type": "execute_result"
    }
   ],
   "source": [
    "L1(A, n_data, k)\n",
    "L2(A, n_data, k, qs)\n",
    "L3(A, n_data, k)\n",
    "N(A, n_data, k)\n"
   ]
  },
  {
   "cell_type": "markdown",
   "metadata": {},
   "source": [
    "### Solve initial value problem"
   ]
  },
  {
   "cell_type": "code",
   "execution_count": null,
   "metadata": {},
   "outputs": [],
   "source": []
  }
 ],
 "metadata": {
  "kernelspec": {
   "display_name": "Python 3",
   "language": "python",
   "name": "python3"
  },
  "language_info": {
   "codemirror_mode": {
    "name": "ipython",
    "version": 3
   },
   "file_extension": ".py",
   "mimetype": "text/x-python",
   "name": "python",
   "nbconvert_exporter": "python",
   "pygments_lexer": "ipython3",
   "version": "3.10.12"
  }
 },
 "nbformat": 4,
 "nbformat_minor": 2
}
